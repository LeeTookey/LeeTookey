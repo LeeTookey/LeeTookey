{
  "nbformat": 4,
  "nbformat_minor": 0,
  "metadata": {
    "colab": {
      "provenance": [],
      "authorship_tag": "ABX9TyPGH2qkDhmDX8mMedL3QUxH",
      "include_colab_link": true
    },
    "kernelspec": {
      "name": "python3",
      "display_name": "Python 3"
    },
    "language_info": {
      "name": "python"
    }
  },
  "cells": [
    {
      "cell_type": "markdown",
      "metadata": {
        "id": "view-in-github",
        "colab_type": "text"
      },
      "source": [
        "<a href=\"https://colab.research.google.com/github/LeeTookey/LeeTookey/blob/main/PageRankSetup.ipynb\" target=\"_parent\"><img src=\"https://colab.research.google.com/assets/colab-badge.svg\" alt=\"Open In Colab\"/></a>"
      ]
    },
    {
      "cell_type": "code",
      "execution_count": null,
      "metadata": {
        "id": "DaLUe7VBM7m3"
      },
      "outputs": [],
      "source": [
        "# Import numpy for matrix operations\n",
        "import numpy as np\n",
        "\n",
        "# Define the number of webpages\n",
        "n = 5\n",
        "\n",
        "# Define the adjacency matrix of the web graph\n",
        "# Each row represents a webpage, and each column represents a link\n",
        "# A 1 means there is a link from the row webpage to the column webpage\n",
        "# A 0 means there is no link\n",
        "adjacency_matrix = np.array([\n",
        "    [0, 1, 1, 0, 0], # Webpage 1 links to 2 and 3\n",
        "    [0, 0, 1, 0, 0], # Webpage 2 links to 3\n",
        "    [1, 0, 0, 1, 1], # Webpage 3 links to 1, 4 and 5\n",
        "    [0, 0, 0, 0, 1], # Webpage 4 links to 5\n",
        "    [0, 0, 0, 0, 0]  # Webpage 5 has no outbound links\n",
        "])\n",
        "\n",
        "# Normalize the adjacency matrix by dividing each row by its sum\n",
        "# This gives the transition matrix, where each entry is the probability of moving from one webpage to another\n",
        "transition_matrix = adjacency_matrix / adjacency_matrix.sum(axis=1, keepdims=True)\n",
        "\n",
        "# Replace any row that has only zeros with 1/n, to account for webpages with no outbound links\n",
        "# This ensures that the transition matrix is stochastic, i.e. each row sums to 1\n",
        "transition_matrix = np.where(adjacency_matrix.sum(axis=1, keepdims=True) == 0, 1/n, transition_matrix)\n",
        "\n",
        "# Define the damping factor, which is the probability of randomly jumping to any webpage\n",
        "damping_factor = 0.85\n",
        "\n",
        "# Define the teleportation vector, which is a uniform distribution over all webpages\n",
        "teleportation_vector = np.ones(n) / n\n",
        "\n",
        "# Define the initial pagerank vector, which can be any random distribution\n",
        "pagerank_vector = np.random.rand(n)\n",
        "pagerank_vector = pagerank_vector / pagerank_vector.sum()\n",
        "\n",
        "# Define the threshold for convergence, which is the maximum allowed difference between iterations\n",
        "threshold = 1e-6\n",
        "\n",
        "# Initialize a variable to store the difference between iterations\n",
        "difference = 1\n",
        "\n",
        "# Repeat until convergence\n",
        "while difference > threshold:\n",
        "    # Store the previous pagerank vector\n",
        "    previous_pagerank_vector = pagerank_vector\n",
        "    # Update the pagerank vector by applying the pagerank formula\n",
        "    pagerank_vector = damping_factor * transition_matrix.T @ pagerank_vector + (1 - damping_factor) * teleportation_vector\n",
        "    # Compute the difference between the previous and the current pagerank vector\n",
        "    difference = np.linalg.norm(pagerank_vector - previous_pagerank_vector)\n",
        "\n",
        "# Print the final pagerank vector\n",
        "print(pagerank_vector)\n"
      ]
    }
  ]
}