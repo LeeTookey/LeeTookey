{
  "cells": [
    {
      "cell_type": "markdown",
      "metadata": {
        "id": "view-in-github",
        "colab_type": "text"
      },
      "source": [
        "<a href=\"https://colab.research.google.com/github/LeeTookey/LeeTookey/blob/main/plot_multioutput_face_completion.ipynb\" target=\"_parent\"><img src=\"https://colab.research.google.com/assets/colab-badge.svg\" alt=\"Open In Colab\"/></a>"
      ]
    },
    {
      "cell_type": "markdown",
      "metadata": {
        "id": "1X18J2Nudkz9"
      },
      "source": [
        "\n",
        "# Face completion with a multi-output estimators\n",
        "\n",
        "This example shows the use of multi-output estimator to complete images.\n",
        "The goal is to predict the lower half of a face given its upper half.\n",
        "\n",
        "The first column of images shows true faces. The next columns illustrate\n",
        "how extremely randomized trees, k nearest neighbors, linear\n",
        "regression and ridge regression complete the lower half of those faces.\n"
      ]
    },
    {
      "cell_type": "code",
      "execution_count": null,
      "metadata": {
        "id": "VZRgUeaadk0A"
      },
      "outputs": [],
      "source": [
        "import matplotlib.pyplot as plt\n",
        "import numpy as np\n",
        "\n",
        "from sklearn.datasets import fetch_olivetti_faces\n",
        "from sklearn.ensemble import ExtraTreesRegressor\n",
        "from sklearn.linear_model import LinearRegression, RidgeCV\n",
        "from sklearn.neighbors import KNeighborsRegressor\n",
        "from sklearn.utils.validation import check_random_state\n",
        "\n",
        "# Load the faces datasets\n",
        "data, targets = fetch_olivetti_faces(return_X_y=True)\n",
        "\n",
        "train = data[targets < 30]\n",
        "test = data[targets >= 30]  # Test on independent people\n",
        "\n",
        "# Test on a subset of people\n",
        "n_faces = 5\n",
        "rng = check_random_state(4)\n",
        "face_ids = rng.randint(test.shape[0], size=(n_faces,))\n",
        "test = test[face_ids, :]\n",
        "\n",
        "n_pixels = data.shape[1]\n",
        "# Upper half of the faces\n",
        "X_train = train[:, : (n_pixels + 1) // 2]\n",
        "# Lower half of the faces\n",
        "y_train = train[:, n_pixels // 2 :]\n",
        "X_test = test[:, : (n_pixels + 1) // 2]\n",
        "y_test = test[:, n_pixels // 2 :]\n",
        "\n",
        "# Fit estimators\n",
        "ESTIMATORS = {\n",
        "    \"Extra trees\": ExtraTreesRegressor(\n",
        "        n_estimators=10, max_features=32, random_state=0\n",
        "    ),\n",
        "    \"K-nn\": KNeighborsRegressor(),\n",
        "    \"Linear regression\": LinearRegression(),\n",
        "    \"Ridge\": RidgeCV(),\n",
        "}\n",
        "\n",
        "y_test_predict = dict()\n",
        "for name, estimator in ESTIMATORS.items():\n",
        "    estimator.fit(X_train, y_train)\n",
        "    y_test_predict[name] = estimator.predict(X_test)\n",
        "\n",
        "# Plot the completed faces\n",
        "image_shape = (64, 64)\n",
        "\n",
        "n_cols = 1 + len(ESTIMATORS)\n",
        "plt.figure(figsize=(2.0 * n_cols, 2.26 * n_faces))\n",
        "plt.suptitle(\"Face completion with multi-output estimators\", size=16)\n",
        "\n",
        "for i in range(n_faces):\n",
        "    true_face = np.hstack((X_test[i], y_test[i]))\n",
        "\n",
        "    if i:\n",
        "        sub = plt.subplot(n_faces, n_cols, i * n_cols + 1)\n",
        "    else:\n",
        "        sub = plt.subplot(n_faces, n_cols, i * n_cols + 1, title=\"true faces\")\n",
        "\n",
        "    sub.axis(\"off\")\n",
        "    sub.imshow(\n",
        "        true_face.reshape(image_shape), cmap=plt.cm.gray, interpolation=\"nearest\"\n",
        "    )\n",
        "\n",
        "    for j, est in enumerate(sorted(ESTIMATORS)):\n",
        "        completed_face = np.hstack((X_test[i], y_test_predict[est][i]))\n",
        "\n",
        "        if i:\n",
        "            sub = plt.subplot(n_faces, n_cols, i * n_cols + 2 + j)\n",
        "\n",
        "        else:\n",
        "            sub = plt.subplot(n_faces, n_cols, i * n_cols + 2 + j, title=est)\n",
        "\n",
        "        sub.axis(\"off\")\n",
        "        sub.imshow(\n",
        "            completed_face.reshape(image_shape),\n",
        "            cmap=plt.cm.gray,\n",
        "            interpolation=\"nearest\",\n",
        "        )\n",
        "\n",
        "plt.show()"
      ]
    }
  ],
  "metadata": {
    "kernelspec": {
      "display_name": "Python 3",
      "language": "python",
      "name": "python3"
    },
    "language_info": {
      "codemirror_mode": {
        "name": "ipython",
        "version": 3
      },
      "file_extension": ".py",
      "mimetype": "text/x-python",
      "name": "python",
      "nbconvert_exporter": "python",
      "pygments_lexer": "ipython3",
      "version": "3.9.18"
    },
    "colab": {
      "provenance": [],
      "include_colab_link": true
    }
  },
  "nbformat": 4,
  "nbformat_minor": 0
}